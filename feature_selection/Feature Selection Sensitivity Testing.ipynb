{
 "cells": [
  {
   "cell_type": "markdown",
   "id": "1cee511e",
   "metadata": {},
   "source": [
    "# Feature Selection Sensitivity Testing"
   ]
  },
  {
   "cell_type": "markdown",
   "id": "db9c592e",
   "metadata": {},
   "source": [
    "## One airline in 2019"
   ]
  },
  {
   "cell_type": "code",
   "execution_count": 1,
   "id": "044af8ed",
   "metadata": {},
   "outputs": [],
   "source": [
    "#!pip install autofeatselect\n",
    "#!pip install lazypredict\n"
   ]
  },
  {
   "cell_type": "code",
   "execution_count": 10,
   "id": "f573e060",
   "metadata": {},
   "outputs": [],
   "source": [
    "import pandas as pd\n",
    "import sqlite3\n",
    "import time\n",
    "import matplotlib.pyplot as plt\n",
    "import numpy as np\n",
    "import os\n",
    "from sklearn.model_selection import train_test_split\n",
    "from autofeatselect import CorrelationCalculator, FeatureSelector, AutoFeatureSelect\n",
    "import seaborn as sns\n",
    "import sklearn\n",
    "from sklearn.decomposition import PCA\n",
    "from sklearn.preprocessing import StandardScaler\n",
    "import pickle\n",
    "import sys\n",
    "import lazypredict\n",
    "from lazypredict.Supervised import LazyClassifier\n",
    "from sklearn.preprocessing import LabelEncoder"
   ]
  },
  {
   "cell_type": "code",
   "execution_count": 3,
   "id": "7f5da5c3",
   "metadata": {},
   "outputs": [
    {
     "data": {
      "text/plain": [
       "'/home/ccecilia'"
      ]
     },
     "execution_count": 3,
     "metadata": {},
     "output_type": "execute_result"
    }
   ],
   "source": [
    "os.getcwd()"
   ]
  },
  {
   "cell_type": "code",
   "execution_count": 4,
   "id": "8dd4f0b2",
   "metadata": {},
   "outputs": [],
   "source": [
    "n_jobs = 2 #make sure to request 2 cores\n",
    "random_state = 42\n",
    "seed = 24"
   ]
  },
  {
   "cell_type": "code",
   "execution_count": 5,
   "id": "41d7e974",
   "metadata": {},
   "outputs": [],
   "source": [
    "df = pd.read_parquet('bts_faa_coords.parquet')"
   ]
  },
  {
   "cell_type": "code",
   "execution_count": 6,
   "id": "cdb5b166",
   "metadata": {},
   "outputs": [],
   "source": [
    "df_dl_2019 = df[(df['Reporting_Airline']=='DL') &\n",
    "             (df['Year']==2019) &\n",
    "             (df['Cancelled']==0) &\n",
    "             (df['Diverted']==0)].copy()\n",
    "del df #free up memory"
   ]
  },
  {
   "cell_type": "markdown",
   "id": "7d7649e9",
   "metadata": {},
   "source": [
    "### Test if the different dataset with same features will change models performance"
   ]
  },
  {
   "cell_type": "code",
   "execution_count": 7,
   "id": "187e8e16",
   "metadata": {},
   "outputs": [],
   "source": [
    "final_features = pd.read_csv('final_features.csv')"
   ]
  },
  {
   "cell_type": "code",
   "execution_count": 11,
   "id": "d0f8d556",
   "metadata": {},
   "outputs": [],
   "source": [
    "def labe_encoder(df):\n",
    "    label_encoder = LabelEncoder()\n",
    "    # Separate numeric and object columns\n",
    "    object_columns = df.select_dtypes(exclude=[np.number]).columns.tolist()\n",
    "    for c in object_columns:\n",
    "        df[c] = label_encoder.fit_transform(df[c])\n",
    "    return df"
   ]
  },
  {
   "cell_type": "code",
   "execution_count": 16,
   "id": "093bc210",
   "metadata": {},
   "outputs": [],
   "source": [
    "df_dl_2019_test = labe_encoder(df_dl_2019[final_features['feature']])"
   ]
  },
  {
   "cell_type": "code",
   "execution_count": 13,
   "id": "139d0ebf",
   "metadata": {},
   "outputs": [],
   "source": [
    "# define the delay label\n",
    "df_dl_2019.loc[:, 'delay_label'] = df_dl_2019.apply(lambda row: 1 if row['ArrDel15'] == 1 or row['DepDel15'] == 1 else 0, axis=1)"
   ]
  },
  {
   "cell_type": "code",
   "execution_count": 18,
   "id": "f7653676",
   "metadata": {},
   "outputs": [],
   "source": [
    "# Split the data set into the training set and a test set\n",
    "X_train, X_test, y_train, y_test = train_test_split(df_dl_2019_test,\n",
    "                                                  df_dl_2019['delay_label'],\n",
    "                                                  test_size=0.2, \n",
    "                                                  random_state=random_state,\n",
    "                                                  #stratify=X_train_temp['Reporting_Airline']\n",
    "                                                 )"
   ]
  },
  {
   "cell_type": "code",
   "execution_count": 19,
   "id": "4f589583",
   "metadata": {},
   "outputs": [
    {
     "data": {
      "text/plain": [
       "[('LogisticRegression', sklearn.linear_model._logistic.LogisticRegression),\n",
       " ('RandomForestClassifier', sklearn.ensemble._forest.RandomForestClassifier),\n",
       " ('XGBClassifier', xgboost.sklearn.XGBClassifier),\n",
       " ('LGBMClassifier', lightgbm.sklearn.LGBMClassifier)]"
      ]
     },
     "execution_count": 19,
     "metadata": {},
     "output_type": "execute_result"
    }
   ],
   "source": [
    "classifiers_copy = lazypredict.Supervised.CLASSIFIERS\n",
    "lazypredict.Supervised.CLASSIFIERS = [classifiers_copy[15], classifiers_copy[21], classifiers_copy[27], classifiers_copy[28]]\n",
    "lazypredict.Supervised.CLASSIFIERS"
   ]
  },
  {
   "cell_type": "code",
   "execution_count": 21,
   "id": "76af8023",
   "metadata": {},
   "outputs": [
    {
     "name": "stderr",
     "output_type": "stream",
     "text": [
      " 75%|███████▌  | 3/4 [04:40<01:30, 90.13s/it] "
     ]
    },
    {
     "name": "stdout",
     "output_type": "stream",
     "text": [
      "[LightGBM] [Info] Number of positive: 145045, number of negative: 658174\n",
      "[LightGBM] [Info] Auto-choosing row-wise multi-threading, the overhead of testing was 0.006995 seconds.\n",
      "You can set `force_row_wise=true` to remove the overhead.\n",
      "And if memory is not enough, you can set `force_col_wise=true`.\n",
      "[LightGBM] [Info] Total Bins 1294\n",
      "[LightGBM] [Info] Number of data points in the train set: 803219, number of used features: 8\n",
      "[LightGBM] [Info] [binary:BoostFromScore]: pavg=0.180580 -> initscore=-1.512425\n",
      "[LightGBM] [Info] Start training from score -1.512425\n"
     ]
    },
    {
     "name": "stderr",
     "output_type": "stream",
     "text": [
      "100%|██████████| 4/4 [04:45<00:00, 71.29s/it]\n"
     ]
    },
    {
     "data": {
      "text/html": [
       "<div>\n",
       "<style scoped>\n",
       "    .dataframe tbody tr th:only-of-type {\n",
       "        vertical-align: middle;\n",
       "    }\n",
       "\n",
       "    .dataframe tbody tr th {\n",
       "        vertical-align: top;\n",
       "    }\n",
       "\n",
       "    .dataframe thead th {\n",
       "        text-align: right;\n",
       "    }\n",
       "</style>\n",
       "<table border=\"1\" class=\"dataframe\">\n",
       "  <thead>\n",
       "    <tr style=\"text-align: right;\">\n",
       "      <th></th>\n",
       "      <th>Accuracy</th>\n",
       "      <th>Balanced Accuracy</th>\n",
       "      <th>ROC AUC</th>\n",
       "      <th>F1 Score</th>\n",
       "      <th>Time Taken</th>\n",
       "    </tr>\n",
       "    <tr>\n",
       "      <th>Model</th>\n",
       "      <th></th>\n",
       "      <th></th>\n",
       "      <th></th>\n",
       "      <th></th>\n",
       "      <th></th>\n",
       "    </tr>\n",
       "  </thead>\n",
       "  <tbody>\n",
       "    <tr>\n",
       "      <th>RandomForestClassifier</th>\n",
       "      <td>0.94</td>\n",
       "      <td>0.86</td>\n",
       "      <td>0.86</td>\n",
       "      <td>0.94</td>\n",
       "      <td>275.39</td>\n",
       "    </tr>\n",
       "    <tr>\n",
       "      <th>XGBClassifier</th>\n",
       "      <td>0.93</td>\n",
       "      <td>0.84</td>\n",
       "      <td>0.84</td>\n",
       "      <td>0.93</td>\n",
       "      <td>4.02</td>\n",
       "    </tr>\n",
       "    <tr>\n",
       "      <th>LGBMClassifier</th>\n",
       "      <td>0.92</td>\n",
       "      <td>0.81</td>\n",
       "      <td>0.81</td>\n",
       "      <td>0.92</td>\n",
       "      <td>4.57</td>\n",
       "    </tr>\n",
       "    <tr>\n",
       "      <th>LogisticRegression</th>\n",
       "      <td>0.84</td>\n",
       "      <td>0.58</td>\n",
       "      <td>0.58</td>\n",
       "      <td>0.80</td>\n",
       "      <td>1.20</td>\n",
       "    </tr>\n",
       "  </tbody>\n",
       "</table>\n",
       "</div>"
      ],
      "text/plain": [
       "                        Accuracy  Balanced Accuracy  ROC AUC  F1 Score  \\\n",
       "Model                                                                    \n",
       "RandomForestClassifier      0.94               0.86     0.86      0.94   \n",
       "XGBClassifier               0.93               0.84     0.84      0.93   \n",
       "LGBMClassifier              0.92               0.81     0.81      0.92   \n",
       "LogisticRegression          0.84               0.58     0.58      0.80   \n",
       "\n",
       "                        Time Taken  \n",
       "Model                               \n",
       "RandomForestClassifier      275.39  \n",
       "XGBClassifier                 4.02  \n",
       "LGBMClassifier                4.57  \n",
       "LogisticRegression            1.20  "
      ]
     },
     "execution_count": 21,
     "metadata": {},
     "output_type": "execute_result"
    }
   ],
   "source": [
    "clf = LazyClassifier(verbose=0, \n",
    "                     ignore_warnings=True, \n",
    "                     custom_metric=None)\n",
    "models,predictions = clf.fit(X_train, X_test, y_train, y_test)\n",
    "\n",
    "models"
   ]
  },
  {
   "cell_type": "markdown",
   "id": "5921cb31",
   "metadata": {},
   "source": [
    "### Apply Boruta Rankings Method"
   ]
  },
  {
   "cell_type": "code",
   "execution_count": 22,
   "id": "d00f20ec",
   "metadata": {},
   "outputs": [],
   "source": [
    "#select numeric columns\n",
    "num_feats = [\n",
    "    #'DepDelay', #highly correlated to the delay lable\n",
    "    #'DepDelayMinutes',#highly correlated to the delay lable\n",
    "   'TaxiOut',\n",
    "   'TaxiIn',\n",
    "   #'ArrDelay',#highly correlated to the delay lable\n",
    "   #'ArrDelayMinutes',#highly correlated to the delay lable\n",
    "   'AirTime',\n",
    "   'Distance',\n",
    "   'HORSEPOWER',\n",
    "   'THRUST',\n",
    "   'NO-ENG',\n",
    "   'NO-SEATS',\n",
    "   'SPEED',\n",
    "   'Origin_LATITUDE',\n",
    "   'Origin_LONGITUDE',\n",
    "   'Dest_LATITUDE',\n",
    "   'Dest_LONGITUDE'\n",
    "]"
   ]
  },
  {
   "cell_type": "code",
   "execution_count": 23,
   "id": "38ea8a6e",
   "metadata": {},
   "outputs": [],
   "source": [
    "cat_feats = [\n",
    "    #'Year',\n",
    "    'Quarter',\n",
    "    'Month',\n",
    "    'DayofMonth',\n",
    "    'DayOfWeek',\n",
    "    #'Reporting_Airline',\n",
    "    #'DepartureDelayGroups', #highly correlated to the delay lable\n",
    "    'DepTimeBlk',\n",
    "    'WheelsOff',\n",
    "    'WheelsOn',\n",
    "    #'ArrivalDelayGroups',#highly correlated to the delay lable\n",
    "    'ArrTimeBlk',\n",
    "    'CRSElapsedTime',\n",
    "    'ActualElapsedTime',\n",
    "    'DistanceGroup',\n",
    "    'SERIAL NUMBER',\n",
    "    'MFR MDL CODE',\n",
    "    'ENG MFR MDL',\n",
    "    'YEAR MFR',\n",
    "    'TYPE REGISTRANT',\n",
    "    'REGION',\n",
    "    'COUNTY',\n",
    "    'COUNTRY',\n",
    "    'TYPE AIRCRAFT',\n",
    "    'TYPE ENGINE',\n",
    "    'STATUS CODE',\n",
    "    'MODE S CODE',\n",
    "    'FRACT OWNER',\n",
    "    'AIR WORTH DATE',\n",
    "    'MFR',\n",
    "    'MODEL',\n",
    "    'TYPE',\n",
    "    'MFR_aircraft',\n",
    "    'MODEL_aircraft',\n",
    "    'TYPE-ACFT',\n",
    "    'TYPE-ENG',\n",
    "    'AC-WEIGHT'\n",
    "]"
   ]
  },
  {
   "cell_type": "code",
   "execution_count": 24,
   "id": "860445bc",
   "metadata": {},
   "outputs": [],
   "source": [
    "# Convert specified columns to object type\n",
    "df_dl_2019[cat_feats] = df_dl_2019[cat_feats].astype(str)\n",
    "\n",
    "# Replace NaN values with empty strings\n",
    "df_dl_2019[cat_feats] = df_dl_2019[cat_feats].fillna('')"
   ]
  },
  {
   "cell_type": "code",
   "execution_count": 25,
   "id": "aca00896",
   "metadata": {},
   "outputs": [],
   "source": [
    "# Split the data set into the training set and a test set\n",
    "X_train, X_test, y_train, y_test = train_test_split(df_dl_2019,\n",
    "                                                  df_dl_2019['delay_label'],\n",
    "                                                  test_size=0.2, \n",
    "                                                  random_state=random_state,\n",
    "                                                  #stratify=X_train_temp['Reporting_Airline']\n",
    "                                                 )"
   ]
  },
  {
   "cell_type": "code",
   "execution_count": 26,
   "id": "d5af6eff",
   "metadata": {},
   "outputs": [],
   "source": [
    "# Calculate Pearson correlation coefficient to eliminate highly related features.\n",
    "corr_df_num, num_remove_list = CorrelationCalculator.numeric_correlations(X_train,\n",
    "                                                                          features=num_feats,\n",
    "                                                                          static_features=None,\n",
    "                                                                          corr_method='pearson',\n",
    "                                                                          threshold=0.8)\n",
    "\n",
    "corr_df_cat, cat_remove_list = CorrelationCalculator.categorical_correlations(X_train,\n",
    "                                                                              features=cat_feats,\n",
    "                                                                              static_features=None,\n",
    "                                                                              threshold=0.8)"
   ]
  },
  {
   "cell_type": "code",
   "execution_count": 27,
   "id": "d4eaf050",
   "metadata": {},
   "outputs": [
    {
     "data": {
      "text/plain": [
       "['AirTime']"
      ]
     },
     "execution_count": 27,
     "metadata": {},
     "output_type": "execute_result"
    }
   ],
   "source": [
    "num_remove_list"
   ]
  },
  {
   "cell_type": "code",
   "execution_count": 28,
   "id": "9d20315f",
   "metadata": {},
   "outputs": [
    {
     "data": {
      "text/plain": [
       "['Quarter',\n",
       " 'DepTimeBlk',\n",
       " 'ArrTimeBlk',\n",
       " 'MFR MDL CODE',\n",
       " 'ENG MFR MDL',\n",
       " 'YEAR MFR',\n",
       " 'TYPE REGISTRANT',\n",
       " 'REGION',\n",
       " 'COUNTY',\n",
       " 'COUNTRY',\n",
       " 'TYPE AIRCRAFT',\n",
       " 'TYPE ENGINE',\n",
       " 'STATUS CODE',\n",
       " 'SERIAL NUMBER',\n",
       " 'FRACT OWNER',\n",
       " 'AIR WORTH DATE',\n",
       " 'MFR',\n",
       " 'MODEL',\n",
       " 'TYPE',\n",
       " 'MFR_aircraft',\n",
       " 'MODEL_aircraft',\n",
       " 'TYPE-ACFT',\n",
       " 'TYPE-ENG',\n",
       " 'AC-WEIGHT']"
      ]
     },
     "execution_count": 28,
     "metadata": {},
     "output_type": "execute_result"
    }
   ],
   "source": [
    "cat_remove_list"
   ]
  },
  {
   "cell_type": "code",
   "execution_count": 29,
   "id": "3d8db4e6",
   "metadata": {},
   "outputs": [],
   "source": [
    "#Remove correlated features\n",
    "num_feats_final = [c for c in num_feats if c not in num_remove_list]\n",
    "cat_feats_final = [c for c in cat_feats if c not in cat_remove_list]"
   ]
  },
  {
   "cell_type": "code",
   "execution_count": 30,
   "id": "dce67a06",
   "metadata": {},
   "outputs": [],
   "source": [
    "#Create Feature Selector Object\n",
    "feat_selector = FeatureSelector(modeling_type = 'classification',\n",
    "                                X_train = X_train, \n",
    "                                y_train = y_train,\n",
    "                                X_test = X_test, \n",
    "                                y_test = y_test,\n",
    "                                numeric_columns = num_feats_final,\n",
    "                                categorical_columns = cat_feats_final,\n",
    "                                seed = seed)"
   ]
  },
  {
   "cell_type": "code",
   "execution_count": 32,
   "id": "71a0dde9",
   "metadata": {},
   "outputs": [
    {
     "data": {
      "text/html": [
       "<div>\n",
       "<style scoped>\n",
       "    .dataframe tbody tr th:only-of-type {\n",
       "        vertical-align: middle;\n",
       "    }\n",
       "\n",
       "    .dataframe tbody tr th {\n",
       "        vertical-align: top;\n",
       "    }\n",
       "\n",
       "    .dataframe thead th {\n",
       "        text-align: right;\n",
       "    }\n",
       "</style>\n",
       "<table border=\"1\" class=\"dataframe\">\n",
       "  <thead>\n",
       "    <tr style=\"text-align: right;\">\n",
       "      <th></th>\n",
       "      <th>feature</th>\n",
       "      <th>boruta_support</th>\n",
       "      <th>boruta_support_weak</th>\n",
       "      <th>boruta_ranking</th>\n",
       "    </tr>\n",
       "  </thead>\n",
       "  <tbody>\n",
       "    <tr>\n",
       "      <th>0</th>\n",
       "      <td>TaxiOut</td>\n",
       "      <td>1</td>\n",
       "      <td>0</td>\n",
       "      <td>1</td>\n",
       "    </tr>\n",
       "    <tr>\n",
       "      <th>1</th>\n",
       "      <td>ActualElapsedTime</td>\n",
       "      <td>1</td>\n",
       "      <td>0</td>\n",
       "      <td>1</td>\n",
       "    </tr>\n",
       "    <tr>\n",
       "      <th>2</th>\n",
       "      <td>WheelsOn</td>\n",
       "      <td>1</td>\n",
       "      <td>0</td>\n",
       "      <td>1</td>\n",
       "    </tr>\n",
       "    <tr>\n",
       "      <th>3</th>\n",
       "      <td>WheelsOff</td>\n",
       "      <td>1</td>\n",
       "      <td>0</td>\n",
       "      <td>1</td>\n",
       "    </tr>\n",
       "    <tr>\n",
       "      <th>4</th>\n",
       "      <td>MODE S CODE</td>\n",
       "      <td>1</td>\n",
       "      <td>0</td>\n",
       "      <td>1</td>\n",
       "    </tr>\n",
       "    <tr>\n",
       "      <th>5</th>\n",
       "      <td>TaxiIn</td>\n",
       "      <td>1</td>\n",
       "      <td>0</td>\n",
       "      <td>1</td>\n",
       "    </tr>\n",
       "    <tr>\n",
       "      <th>6</th>\n",
       "      <td>CRSElapsedTime</td>\n",
       "      <td>0</td>\n",
       "      <td>0</td>\n",
       "      <td>2</td>\n",
       "    </tr>\n",
       "    <tr>\n",
       "      <th>7</th>\n",
       "      <td>DayofMonth</td>\n",
       "      <td>0</td>\n",
       "      <td>0</td>\n",
       "      <td>3</td>\n",
       "    </tr>\n",
       "    <tr>\n",
       "      <th>8</th>\n",
       "      <td>Distance</td>\n",
       "      <td>0</td>\n",
       "      <td>0</td>\n",
       "      <td>4</td>\n",
       "    </tr>\n",
       "    <tr>\n",
       "      <th>9</th>\n",
       "      <td>Month</td>\n",
       "      <td>0</td>\n",
       "      <td>0</td>\n",
       "      <td>5</td>\n",
       "    </tr>\n",
       "    <tr>\n",
       "      <th>10</th>\n",
       "      <td>Dest_LONGITUDE</td>\n",
       "      <td>0</td>\n",
       "      <td>0</td>\n",
       "      <td>6</td>\n",
       "    </tr>\n",
       "    <tr>\n",
       "      <th>11</th>\n",
       "      <td>Origin_LONGITUDE</td>\n",
       "      <td>0</td>\n",
       "      <td>0</td>\n",
       "      <td>7</td>\n",
       "    </tr>\n",
       "    <tr>\n",
       "      <th>12</th>\n",
       "      <td>Origin_LATITUDE</td>\n",
       "      <td>0</td>\n",
       "      <td>0</td>\n",
       "      <td>8</td>\n",
       "    </tr>\n",
       "    <tr>\n",
       "      <th>13</th>\n",
       "      <td>Dest_LATITUDE</td>\n",
       "      <td>0</td>\n",
       "      <td>0</td>\n",
       "      <td>9</td>\n",
       "    </tr>\n",
       "    <tr>\n",
       "      <th>14</th>\n",
       "      <td>DayOfWeek</td>\n",
       "      <td>0</td>\n",
       "      <td>0</td>\n",
       "      <td>10</td>\n",
       "    </tr>\n",
       "    <tr>\n",
       "      <th>15</th>\n",
       "      <td>THRUST</td>\n",
       "      <td>0</td>\n",
       "      <td>0</td>\n",
       "      <td>11</td>\n",
       "    </tr>\n",
       "    <tr>\n",
       "      <th>16</th>\n",
       "      <td>NO-SEATS</td>\n",
       "      <td>0</td>\n",
       "      <td>0</td>\n",
       "      <td>12</td>\n",
       "    </tr>\n",
       "    <tr>\n",
       "      <th>17</th>\n",
       "      <td>DistanceGroup</td>\n",
       "      <td>0</td>\n",
       "      <td>0</td>\n",
       "      <td>13</td>\n",
       "    </tr>\n",
       "    <tr>\n",
       "      <th>18</th>\n",
       "      <td>HORSEPOWER</td>\n",
       "      <td>0</td>\n",
       "      <td>0</td>\n",
       "      <td>14</td>\n",
       "    </tr>\n",
       "    <tr>\n",
       "      <th>19</th>\n",
       "      <td>NO-ENG</td>\n",
       "      <td>0</td>\n",
       "      <td>0</td>\n",
       "      <td>15</td>\n",
       "    </tr>\n",
       "    <tr>\n",
       "      <th>20</th>\n",
       "      <td>SPEED</td>\n",
       "      <td>0</td>\n",
       "      <td>0</td>\n",
       "      <td>16</td>\n",
       "    </tr>\n",
       "  </tbody>\n",
       "</table>\n",
       "</div>"
      ],
      "text/plain": [
       "              feature  boruta_support  boruta_support_weak  boruta_ranking\n",
       "0             TaxiOut               1                    0               1\n",
       "1   ActualElapsedTime               1                    0               1\n",
       "2            WheelsOn               1                    0               1\n",
       "3           WheelsOff               1                    0               1\n",
       "4         MODE S CODE               1                    0               1\n",
       "5              TaxiIn               1                    0               1\n",
       "6      CRSElapsedTime               0                    0               2\n",
       "7          DayofMonth               0                    0               3\n",
       "8            Distance               0                    0               4\n",
       "9               Month               0                    0               5\n",
       "10     Dest_LONGITUDE               0                    0               6\n",
       "11   Origin_LONGITUDE               0                    0               7\n",
       "12    Origin_LATITUDE               0                    0               8\n",
       "13      Dest_LATITUDE               0                    0               9\n",
       "14          DayOfWeek               0                    0              10\n",
       "15             THRUST               0                    0              11\n",
       "16           NO-SEATS               0                    0              12\n",
       "17      DistanceGroup               0                    0              13\n",
       "18         HORSEPOWER               0                    0              14\n",
       "19             NO-ENG               0                    0              15\n",
       "20              SPEED               0                    0              16"
      ]
     },
     "execution_count": 32,
     "metadata": {},
     "output_type": "execute_result"
    }
   ],
   "source": [
    "#Boruta Ranking\n",
    "boruta_importance_df = feat_selector.boruta_rankings(rf_hyperparams={'n_jobs':n_jobs, \n",
    "                                                                     'random_state':random_state, \n",
    "                                                                     n_estimators=200})\n",
    "\n",
    "boruta_importance_df.to_csv('boruta_importance_df.csv', index=False)\n",
    "boruta_importance_df"
   ]
  },
  {
   "cell_type": "code",
   "execution_count": null,
   "id": "26ef9ff9",
   "metadata": {},
   "outputs": [],
   "source": []
  }
 ],
 "metadata": {
  "kernelspec": {
   "display_name": "Python 3 (ipykernel)",
   "language": "python",
   "name": "python3"
  },
  "language_info": {
   "codemirror_mode": {
    "name": "ipython",
    "version": 3
   },
   "file_extension": ".py",
   "mimetype": "text/x-python",
   "name": "python",
   "nbconvert_exporter": "python",
   "pygments_lexer": "ipython3",
   "version": "3.10.9"
  }
 },
 "nbformat": 4,
 "nbformat_minor": 5
}
