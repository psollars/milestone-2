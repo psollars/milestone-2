{
 "cells": [
  {
   "cell_type": "code",
   "execution_count": 1,
   "metadata": {},
   "outputs": [
    {
     "data": {
      "text/plain": [
       "('2.1.1', '1.3.1')"
      ]
     },
     "execution_count": 1,
     "metadata": {},
     "output_type": "execute_result"
    }
   ],
   "source": [
    "import pandas as pd\n",
    "import matplotlib.pyplot as plt\n",
    "import altair as alt\n",
    "import time\n",
    "import sklearn\n",
    "import warnings\n",
    "import pickle\n",
    "\n",
    "warnings.filterwarnings(action='ignore', category=FutureWarning)\n",
    "\n",
    "pd.__version__, sklearn.__version__"
   ]
  },
  {
   "cell_type": "code",
   "execution_count": 2,
   "metadata": {},
   "outputs": [],
   "source": [
    "SCRATCH_DIR = \"/scratch/siads696f23_class_root/siads696f23_class/psollars\"\n",
    "\n",
    "# For local dev\n",
    "SCRATCH_DIR = \"./../data\""
   ]
  },
  {
   "cell_type": "code",
   "execution_count": 3,
   "metadata": {},
   "outputs": [
    {
     "data": {
      "text/html": [
       "<div>\n",
       "<style scoped>\n",
       "    .dataframe tbody tr th:only-of-type {\n",
       "        vertical-align: middle;\n",
       "    }\n",
       "\n",
       "    .dataframe tbody tr th {\n",
       "        vertical-align: top;\n",
       "    }\n",
       "\n",
       "    .dataframe thead th {\n",
       "        text-align: right;\n",
       "    }\n",
       "</style>\n",
       "<table border=\"1\" class=\"dataframe\">\n",
       "  <thead>\n",
       "    <tr style=\"text-align: right;\">\n",
       "      <th></th>\n",
       "      <th>Quarter</th>\n",
       "      <th>Month</th>\n",
       "      <th>DayofMonth</th>\n",
       "      <th>DayOfWeek</th>\n",
       "      <th>CRSDepTime</th>\n",
       "      <th>CRSArrTime</th>\n",
       "      <th>CRSElapsedTime</th>\n",
       "      <th>Distance</th>\n",
       "      <th>DistanceGroup</th>\n",
       "      <th>YEAR MFR</th>\n",
       "      <th>...</th>\n",
       "      <th>Dest</th>\n",
       "      <th>NAME</th>\n",
       "      <th>CERTIFICATION</th>\n",
       "      <th>engine_type</th>\n",
       "      <th>engine_manufacturer</th>\n",
       "      <th>engine_model</th>\n",
       "      <th>aircraft_type</th>\n",
       "      <th>aircraft_manufacturer</th>\n",
       "      <th>aircraft_model</th>\n",
       "      <th>delayed</th>\n",
       "    </tr>\n",
       "  </thead>\n",
       "  <tbody>\n",
       "    <tr>\n",
       "      <th>25272188</th>\n",
       "      <td>1</td>\n",
       "      <td>1</td>\n",
       "      <td>22</td>\n",
       "      <td>2</td>\n",
       "      <td>1315</td>\n",
       "      <td>1932</td>\n",
       "      <td>257</td>\n",
       "      <td>1846</td>\n",
       "      <td>8</td>\n",
       "      <td>2001.0</td>\n",
       "      <td>...</td>\n",
       "      <td>ORD</td>\n",
       "      <td>WELLS FARGO TRUST CO NA TRUSTEE               ...</td>\n",
       "      <td>1T</td>\n",
       "      <td>5</td>\n",
       "      <td>ROLLS-ROYCE</td>\n",
       "      <td>RB-211 SERIES</td>\n",
       "      <td>5</td>\n",
       "      <td>BOEING</td>\n",
       "      <td>757-33N</td>\n",
       "      <td>True</td>\n",
       "    </tr>\n",
       "    <tr>\n",
       "      <th>25272196</th>\n",
       "      <td>1</td>\n",
       "      <td>1</td>\n",
       "      <td>22</td>\n",
       "      <td>2</td>\n",
       "      <td>1000</td>\n",
       "      <td>1144</td>\n",
       "      <td>164</td>\n",
       "      <td>733</td>\n",
       "      <td>3</td>\n",
       "      <td>2002.0</td>\n",
       "      <td>...</td>\n",
       "      <td>ORD</td>\n",
       "      <td>UNITED AIRLINES INC                           ...</td>\n",
       "      <td>1T</td>\n",
       "      <td>5</td>\n",
       "      <td>CFM INTL</td>\n",
       "      <td>CFM56-7B22</td>\n",
       "      <td>5</td>\n",
       "      <td>BOEING</td>\n",
       "      <td>737-700</td>\n",
       "      <td>False</td>\n",
       "    </tr>\n",
       "    <tr>\n",
       "      <th>25272197</th>\n",
       "      <td>1</td>\n",
       "      <td>1</td>\n",
       "      <td>22</td>\n",
       "      <td>2</td>\n",
       "      <td>1430</td>\n",
       "      <td>1650</td>\n",
       "      <td>80</td>\n",
       "      <td>296</td>\n",
       "      <td>2</td>\n",
       "      <td>2015.0</td>\n",
       "      <td>...</td>\n",
       "      <td>CMH</td>\n",
       "      <td>UNITED AIRLINES INC                           ...</td>\n",
       "      <td>1T</td>\n",
       "      <td>5</td>\n",
       "      <td>CFM INTL</td>\n",
       "      <td>CFM56-7B27E</td>\n",
       "      <td>5</td>\n",
       "      <td>BOEING</td>\n",
       "      <td>737-924ER</td>\n",
       "      <td>True</td>\n",
       "    </tr>\n",
       "    <tr>\n",
       "      <th>25272202</th>\n",
       "      <td>1</td>\n",
       "      <td>1</td>\n",
       "      <td>22</td>\n",
       "      <td>2</td>\n",
       "      <td>1011</td>\n",
       "      <td>1200</td>\n",
       "      <td>169</td>\n",
       "      <td>888</td>\n",
       "      <td>4</td>\n",
       "      <td>2004.0</td>\n",
       "      <td>...</td>\n",
       "      <td>DEN</td>\n",
       "      <td>UNITED AIRLINES INC                           ...</td>\n",
       "      <td>1T</td>\n",
       "      <td>5</td>\n",
       "      <td>ROLLS-ROYCE</td>\n",
       "      <td>RB-211 SERIES</td>\n",
       "      <td>5</td>\n",
       "      <td>BOEING</td>\n",
       "      <td>757-324</td>\n",
       "      <td>True</td>\n",
       "    </tr>\n",
       "    <tr>\n",
       "      <th>25272222</th>\n",
       "      <td>1</td>\n",
       "      <td>1</td>\n",
       "      <td>22</td>\n",
       "      <td>2</td>\n",
       "      <td>1423</td>\n",
       "      <td>2024</td>\n",
       "      <td>241</td>\n",
       "      <td>1723</td>\n",
       "      <td>7</td>\n",
       "      <td>2004.0</td>\n",
       "      <td>...</td>\n",
       "      <td>ORD</td>\n",
       "      <td>UMB BANK NA TRUSTEE                           ...</td>\n",
       "      <td>1T</td>\n",
       "      <td>5</td>\n",
       "      <td>CFM INTL</td>\n",
       "      <td>CFM56 SERIES</td>\n",
       "      <td>5</td>\n",
       "      <td>BOEING</td>\n",
       "      <td>737-824</td>\n",
       "      <td>True</td>\n",
       "    </tr>\n",
       "  </tbody>\n",
       "</table>\n",
       "<p>5 rows × 29 columns</p>\n",
       "</div>"
      ],
      "text/plain": [
       "          Quarter  Month  DayofMonth  DayOfWeek CRSDepTime CRSArrTime  \\\n",
       "25272188        1      1          22          2       1315       1932   \n",
       "25272196        1      1          22          2       1000       1144   \n",
       "25272197        1      1          22          2       1430       1650   \n",
       "25272202        1      1          22          2       1011       1200   \n",
       "25272222        1      1          22          2       1423       2024   \n",
       "\n",
       "          CRSElapsedTime  Distance DistanceGroup  YEAR MFR  ...  Dest  \\\n",
       "25272188             257      1846             8    2001.0  ...   ORD   \n",
       "25272196             164       733             3    2002.0  ...   ORD   \n",
       "25272197              80       296             2    2015.0  ...   CMH   \n",
       "25272202             169       888             4    2004.0  ...   DEN   \n",
       "25272222             241      1723             7    2004.0  ...   ORD   \n",
       "\n",
       "                                                       NAME  CERTIFICATION  \\\n",
       "25272188  WELLS FARGO TRUST CO NA TRUSTEE               ...             1T   \n",
       "25272196  UNITED AIRLINES INC                           ...             1T   \n",
       "25272197  UNITED AIRLINES INC                           ...             1T   \n",
       "25272202  UNITED AIRLINES INC                           ...             1T   \n",
       "25272222  UMB BANK NA TRUSTEE                           ...             1T   \n",
       "\n",
       "          engine_type  engine_manufacturer   engine_model  aircraft_type  \\\n",
       "25272188            5          ROLLS-ROYCE  RB-211 SERIES              5   \n",
       "25272196            5             CFM INTL  CFM56-7B22                 5   \n",
       "25272197            5             CFM INTL  CFM56-7B27E                5   \n",
       "25272202            5          ROLLS-ROYCE  RB-211 SERIES              5   \n",
       "25272222            5             CFM INTL  CFM56 SERIES               5   \n",
       "\n",
       "         aircraft_manufacturer        aircraft_model delayed  \n",
       "25272188                BOEING  757-33N                 True  \n",
       "25272196                BOEING  737-700                False  \n",
       "25272197                BOEING  737-924ER               True  \n",
       "25272202                BOEING  757-324                 True  \n",
       "25272222                BOEING  737-824                 True  \n",
       "\n",
       "[5 rows x 29 columns]"
      ]
     },
     "execution_count": 3,
     "metadata": {},
     "output_type": "execute_result"
    }
   ],
   "source": [
    "df = pd.read_parquet(f\"{SCRATCH_DIR}/model_selection_all_delays_ORD_UA.parquet\")\n",
    "\n",
    "df.head()"
   ]
  },
  {
   "cell_type": "code",
   "execution_count": 4,
   "metadata": {},
   "outputs": [],
   "source": [
    "num_cols = [\n",
    "    \"Quarter\",\n",
    "    \"Month\",\n",
    "    \"DayofMonth\",\n",
    "    \"DayOfWeek\",\n",
    "    \"CRSDepTime\",\n",
    "    \"CRSArrTime\",\n",
    "    \"CRSElapsedTime\",\n",
    "    \"Distance\",\n",
    "    \"DistanceGroup\",\n",
    "    \"YEAR MFR\",\n",
    "    \"HORSEPOWER\",\n",
    "    \"THRUST\",\n",
    "    \"NO-SEATS\",\n",
    "    \"Origin_LATITUDE\",\n",
    "    \"Origin_LONGITUDE\",\n",
    "    \"Dest_LATITUDE\",\n",
    "    \"Dest_LONGITUDE\",\n",
    "]\n",
    "\n",
    "cat_cols = [\n",
    "    \"Tail_Number\",\n",
    "    \"Origin\",\n",
    "    \"Dest\",\n",
    "    \"NAME\",\n",
    "    \"CERTIFICATION\",\n",
    "    \"engine_type\",\n",
    "    \"engine_manufacturer\",\n",
    "    \"engine_model\",\n",
    "    \"aircraft_type\",\n",
    "    \"aircraft_manufacturer\",\n",
    "    \"aircraft_model\",\n",
    "]"
   ]
  },
  {
   "cell_type": "code",
   "execution_count": 5,
   "metadata": {},
   "outputs": [
    {
     "name": "stdout",
     "output_type": "stream",
     "text": [
      "Elapsed time: 1.1776 seconds\n"
     ]
    }
   ],
   "source": [
    "from sklearn.compose import ColumnTransformer\n",
    "from sklearn.preprocessing import StandardScaler, OrdinalEncoder\n",
    "\n",
    "\n",
    "start_time = time.time()\n",
    "\n",
    "X = df.drop(\"delayed\", axis=1)\n",
    "y = df[\"delayed\"]\n",
    "\n",
    "preprocessor = ColumnTransformer(\n",
    "    transformers=[\n",
    "        (\"num\", StandardScaler(), num_cols),\n",
    "        (\"cat\", OrdinalEncoder(), cat_cols),\n",
    "    ]\n",
    ")\n",
    "\n",
    "X_transformed = preprocessor.fit_transform(X)\n",
    "\n",
    "end_time = time.time()\n",
    "\n",
    "print(f\"Elapsed time: {(end_time - start_time):.4f} seconds\")"
   ]
  },
  {
   "cell_type": "code",
   "execution_count": 6,
   "metadata": {},
   "outputs": [
    {
     "name": "stdout",
     "output_type": "stream",
     "text": [
      "Elapsed time: 0.0373 seconds\n"
     ]
    }
   ],
   "source": [
    "from sklearn.model_selection import train_test_split\n",
    "\n",
    "\n",
    "start_time = time.time()\n",
    "\n",
    "X_train, X_test, y_train, y_test = train_test_split(\n",
    "    X_transformed, y, test_size=0.2, random_state=42\n",
    ")\n",
    "\n",
    "end_time = time.time()\n",
    "\n",
    "print(f\"Elapsed time: {(end_time - start_time):.4f} seconds\")"
   ]
  },
  {
   "cell_type": "code",
   "execution_count": 7,
   "metadata": {},
   "outputs": [
    {
     "name": "stdout",
     "output_type": "stream",
     "text": [
      "Elapsed time: 2.6947 seconds\n",
      " Original: (122848, 28) (122848,)\n",
      "Resampled: (182596, 28) (182596,)\n"
     ]
    }
   ],
   "source": [
    "from imblearn.over_sampling import SMOTE\n",
    "\n",
    "\n",
    "start_time = time.time()\n",
    "\n",
    "smote = SMOTE(sampling_strategy=\"auto\", random_state=42)\n",
    "X_res, y_res = smote.fit_resample(X_train, y_train)\n",
    "\n",
    "end_time = time.time()\n",
    "\n",
    "print(f\"Elapsed time: {(end_time - start_time):.4f} seconds\")\n",
    "\n",
    "print(\" Original:\", X_train.shape, y_train.shape)\n",
    "print(\"Resampled:\", X_res.shape, y_res.shape)"
   ]
  },
  {
   "cell_type": "code",
   "execution_count": 8,
   "metadata": {},
   "outputs": [
    {
     "name": "stdout",
     "output_type": "stream",
     "text": [
      "Fitting 5 folds for each of 1 candidates, totalling 5 fits\n",
      "[CV 3/5] END ..................................., score=0.959 total time=   8.0s\n",
      "[CV 4/5] END ..................................., score=0.957 total time=   8.0s\n",
      "[CV 5/5] END ..................................., score=0.958 total time=   8.0s\n",
      "[CV 2/5] END ..................................., score=0.566 total time=   8.0s\n",
      "[CV 1/5] END ..................................., score=0.226 total time=   8.2s\n",
      "Elapsed time: 13.8666 seconds\n"
     ]
    }
   ],
   "source": [
    "from sklearn.model_selection import GridSearchCV\n",
    "from sklearn.ensemble import HistGradientBoostingClassifier\n",
    "\n",
    "\n",
    "def fit_grid_search(fit_X_train, fit_y_train):\n",
    "    grid_search = GridSearchCV(\n",
    "        HistGradientBoostingClassifier(),\n",
    "        param_grid={},\n",
    "        scoring=\"f1\",\n",
    "        verbose=3,\n",
    "        cv=5,\n",
    "        n_jobs=-1,\n",
    "    )\n",
    "\n",
    "    grid_search.fit(fit_X_train, fit_y_train)\n",
    "\n",
    "    return grid_search\n",
    "\n",
    "\n",
    "start_time = time.time()\n",
    "\n",
    "model = fit_grid_search(X_res, y_res)\n",
    "\n",
    "end_time = time.time()\n",
    "\n",
    "print(f\"Elapsed time: {(end_time - start_time):.4f} seconds\")"
   ]
  },
  {
   "cell_type": "code",
   "execution_count": 9,
   "metadata": {},
   "outputs": [],
   "source": [
    "# Checkpoint\n",
    "\n",
    "MODEL = \"model_selection_all_delays_ORD_UA_gradient_boost\"\n",
    "MODEL_NAME = \"Gradient Boost\"\n",
    "\n",
    "with open(f\"{SCRATCH_DIR}/{MODEL}_model.pkl\", \"wb\") as f:\n",
    "    pickle.dump(model, f)\n",
    "\n",
    "# So we can recompute the metrics later\n",
    "with open(f\"{SCRATCH_DIR}/{MODEL}_X_test.pkl\", \"wb\") as f:\n",
    "    pickle.dump(X_test, f)\n",
    "with open(f\"{SCRATCH_DIR}/{MODEL}_y_test.pkl\", \"wb\") as f:\n",
    "    pickle.dump(y_test, f)\n",
    "\n",
    "# with open(f\"{SCRATCH_DIR}/{MODEL}.pkl\", \"rb\") as f:\n",
    "#     model = pickle.load(f)"
   ]
  },
  {
   "cell_type": "markdown",
   "metadata": {},
   "source": [
    "# Model Evaluation"
   ]
  },
  {
   "cell_type": "code",
   "execution_count": 10,
   "metadata": {},
   "outputs": [
    {
     "name": "stdout",
     "output_type": "stream",
     "text": [
      "Best parameters:  {}\n",
      "Best score:  0.7333760717244103\n"
     ]
    },
    {
     "data": {
      "text/plain": [
       "{'mean_fit_time': array([7.6345932]),\n",
       " 'std_fit_time': array([0.07982868]),\n",
       " 'mean_score_time': array([0.40570636]),\n",
       " 'std_score_time': array([0.00868852]),\n",
       " 'params': [{}],\n",
       " 'split0_test_score': array([0.22633883]),\n",
       " 'split1_test_score': array([0.56586607]),\n",
       " 'split2_test_score': array([0.95946418]),\n",
       " 'split3_test_score': array([0.95740049]),\n",
       " 'split4_test_score': array([0.95781078]),\n",
       " 'mean_test_score': array([0.73337607]),\n",
       " 'std_test_score': array([0.29557404]),\n",
       " 'rank_test_score': array([1], dtype=int32)}"
      ]
     },
     "execution_count": 10,
     "metadata": {},
     "output_type": "execute_result"
    }
   ],
   "source": [
    "print(\"Best parameters: \", model.best_params_)\n",
    "print(\"Best score: \", model.best_score_)\n",
    "\n",
    "model.cv_results_"
   ]
  },
  {
   "cell_type": "code",
   "execution_count": 11,
   "metadata": {},
   "outputs": [],
   "source": [
    "from sklearn.metrics import (\n",
    "    accuracy_score,\n",
    "    precision_score,\n",
    "    recall_score,\n",
    "    f1_score,\n",
    "    roc_auc_score,\n",
    "    confusion_matrix,\n",
    "    ConfusionMatrixDisplay,\n",
    "    precision_recall_curve,\n",
    "    roc_curve,\n",
    ")\n",
    "\n",
    "\n",
    "y_pred = model.predict(X_test)\n",
    "y_scores = model.predict_proba(X_test)[:, 1]"
   ]
  },
  {
   "cell_type": "code",
   "execution_count": 12,
   "metadata": {},
   "outputs": [
    {
     "name": "stdout",
     "output_type": "stream",
     "text": [
      "[[21903   956]\n",
      " [ 5800  2053]]\n"
     ]
    },
    {
     "data": {
      "image/png": "[encoded data removed]",
      "text/plain": [
       "<Figure size 640x480 with 2 Axes>"
      ]
     },
     "metadata": {},
     "output_type": "display_data"
    }
   ],
   "source": [
    "cm = confusion_matrix(y_test, y_pred)\n",
    "\n",
    "print(cm)\n",
    "\n",
    "ConfusionMatrixDisplay(\n",
    "    confusion_matrix=cm, display_labels=[\"Not Delayed\", \"Delayed\"]\n",
    ").plot(cmap=\"Blues\")\n",
    "plt.title(f\"{MODEL_NAME} Confusion Matrix\")\n",
    "\n",
    "plt.savefig(f\"./visualizations/{MODEL}_cm.png\")\n",
    "\n",
    "plt.show()\n"
   ]
  },
  {
   "cell_type": "code",
   "execution_count": 13,
   "metadata": {},
   "outputs": [
    {
     "data": {
      "image/png": "[encoded data removed]",
      "text/plain": [
       "<Figure size 640x480 with 1 Axes>"
      ]
     },
     "metadata": {},
     "output_type": "display_data"
    }
   ],
   "source": [
    "precision, recall, _ = precision_recall_curve(y_test, y_scores)\n",
    "\n",
    "plt.figure()\n",
    "plt.step(recall, precision, where=\"post\")\n",
    "plt.xlabel(\"Recall\")\n",
    "plt.ylabel(\"Precision\")\n",
    "plt.title(f\"{MODEL_NAME} Precision-Recall Curve\")\n",
    "\n",
    "plt.savefig(f\"./visualizations/{MODEL}_pr.png\")\n",
    "\n",
    "plt.show()"
   ]
  },
  {
   "cell_type": "code",
   "execution_count": 14,
   "metadata": {},
   "outputs": [
    {
     "data": {
      "image/png": "[encoded data removed]",
      "text/plain": [
       "<Figure size 640x480 with 1 Axes>"
      ]
     },
     "metadata": {},
     "output_type": "display_data"
    }
   ],
   "source": [
    "fpr, tpr, _ = roc_curve(y_test, y_scores)\n",
    "\n",
    "plt.figure()\n",
    "plt.plot(fpr, tpr, color=\"darkorange\", label=\"ROC curve\")\n",
    "plt.plot([0, 1], [0, 1], color=\"navy\", linestyle=\"--\")\n",
    "plt.xlabel(\"False Positive Rate\")\n",
    "plt.ylabel(\"True Positive Rate\")\n",
    "plt.title(f\"{MODEL_NAME} ROC Curve\")\n",
    "\n",
    "plt.savefig(f\"./visualizations/{MODEL}_roc.png\")\n",
    "\n",
    "plt.show()"
   ]
  },
  {
   "cell_type": "code",
   "execution_count": 15,
   "metadata": {},
   "outputs": [
    {
     "data": {
      "text/plain": [
       "(0.7800208387600938,\n",
       " 0.6822864739115986,\n",
       " 0.26142875334267157,\n",
       " 0.37801509850856196,\n",
       " 0.6098035756739169)"
      ]
     },
     "execution_count": 15,
     "metadata": {},
     "output_type": "execute_result"
    }
   ],
   "source": [
    "accuracy = accuracy_score(y_test, y_pred)\n",
    "precision = precision_score(y_test, y_pred)\n",
    "recall = recall_score(y_test, y_pred)\n",
    "f1 = f1_score(y_test, y_pred)\n",
    "roc_auc = roc_auc_score(y_test, y_pred, average=\"macro\", multi_class=\"ovr\")\n",
    "\n",
    "accuracy, precision, recall, f1, roc_auc"
   ]
  },
  {
   "cell_type": "code",
   "execution_count": 16,
   "metadata": {},
   "outputs": [
    {
     "data": {
      "text/html": [
       "\n",
       "<style>\n",
       "  #altair-viz-75e1cfd5d35343b5ba026d35cc1dcb91.vega-embed {\n",
       "    width: 100%;\n",
       "    display: flex;\n",
       "  }\n",
       "\n",
       "  #altair-viz-75e1cfd5d35343b5ba026d35cc1dcb91.vega-embed details,\n",
       "  #altair-viz-75e1cfd5d35343b5ba026d35cc1dcb91.vega-embed details summary {\n",
       "    position: relative;\n",
       "  }\n",
       "</style>\n",
       "<div id=\"altair-viz-75e1cfd5d35343b5ba026d35cc1dcb91\"></div>\n",
       "<script type=\"text/javascript\">\n",
       "  var VEGA_DEBUG = (typeof VEGA_DEBUG == \"undefined\") ? {} : VEGA_DEBUG;\n",
       "  (function(spec, embedOpt){\n",
       "    let outputDiv = document.currentScript.previousElementSibling;\n",
       "    if (outputDiv.id !== \"altair-viz-75e1cfd5d35343b5ba026d35cc1dcb91\") {\n",
       "      outputDiv = document.getElementById(\"altair-viz-75e1cfd5d35343b5ba026d35cc1dcb91\");\n",
       "    }\n",
       "    const paths = {\n",
       "      \"vega\": \"https://cdn.jsdelivr.net/npm/vega@5?noext\",\n",
       "      \"vega-lib\": \"https://cdn.jsdelivr.net/npm/vega-lib?noext\",\n",
       "      \"vega-lite\": \"https://cdn.jsdelivr.net/npm/vega-lite@5.14.1?noext\",\n",
       "      \"vega-embed\": \"https://cdn.jsdelivr.net/npm/vega-embed@6?noext\",\n",
       "    };\n",
       "\n",
       "    function maybeLoadScript(lib, version) {\n",
       "      var key = `${lib.replace(\"-\", \"\")}_version`;\n",
       "      return (VEGA_DEBUG[key] == version) ?\n",
       "        Promise.resolve(paths[lib]) :\n",
       "        new Promise(function(resolve, reject) {\n",
       "          var s = document.createElement('script');\n",
       "          document.getElementsByTagName(\"head\")[0].appendChild(s);\n",
       "          s.async = true;\n",
       "          s.onload = () => {\n",
       "            VEGA_DEBUG[key] = version;\n",
       "            return resolve(paths[lib]);\n",
       "          };\n",
       "          s.onerror = () => reject(`Error loading script: ${paths[lib]}`);\n",
       "          s.src = paths[lib];\n",
       "        });\n",
       "    }\n",
       "\n",
       "    function showError(err) {\n",
       "      outputDiv.innerHTML = `<div class=\"error\" style=\"color:red;\">${err}</div>`;\n",
       "      throw err;\n",
       "    }\n",
       "\n",
       "    function displayChart(vegaEmbed) {\n",
       "      vegaEmbed(outputDiv, spec, embedOpt)\n",
       "        .catch(err => showError(`Javascript Error: ${err.message}<br>This usually means there's a typo in your chart specification. See the javascript console for the full traceback.`));\n",
       "    }\n",
       "\n",
       "    if(typeof define === \"function\" && define.amd) {\n",
       "      requirejs.config({paths});\n",
       "      require([\"vega-embed\"], displayChart, err => showError(`Error loading script: ${err.message}`));\n",
       "    } else {\n",
       "      maybeLoadScript(\"vega\", \"5\")\n",
       "        .then(() => maybeLoadScript(\"vega-lite\", \"5.14.1\"))\n",
       "        .then(() => maybeLoadScript(\"vega-embed\", \"6\"))\n",
       "        .catch(showError)\n",
       "        .then(() => displayChart(vegaEmbed));\n",
       "    }\n",
       "  })({\"config\": {\"view\": {\"continuousWidth\": 300, \"continuousHeight\": 300}, \"axis\": {\"labelFontSize\": 12, \"titleFontSize\": 14}}, \"layer\": [{\"mark\": {\"type\": \"bar\"}, \"encoding\": {\"color\": {\"field\": \"Metric\", \"legend\": null, \"type\": \"nominal\"}, \"text\": {\"field\": \"Score\", \"format\": \".2f\", \"type\": \"quantitative\"}, \"x\": {\"axis\": {\"title\": \"Score\"}, \"field\": \"Score\", \"scale\": {\"domain\": [0, 1]}, \"type\": \"quantitative\"}, \"y\": {\"axis\": {\"title\": \"Metric\"}, \"field\": \"Metric\", \"sort\": [\"Accuracy\", \"Precision\", \"Recall\", \"F1 Score\", \"ROC AUC\"], \"type\": \"nominal\"}}}, {\"mark\": {\"type\": \"text\", \"align\": \"right\", \"baseline\": \"middle\", \"color\": \"white\", \"dx\": -10}, \"encoding\": {\"text\": {\"field\": \"Score\", \"format\": \".2f\", \"type\": \"quantitative\"}, \"x\": {\"axis\": {\"title\": \"Score\"}, \"field\": \"Score\", \"scale\": {\"domain\": [0, 1]}, \"type\": \"quantitative\"}, \"y\": {\"axis\": {\"title\": \"Metric\"}, \"field\": \"Metric\", \"sort\": [\"Accuracy\", \"Precision\", \"Recall\", \"F1 Score\", \"ROC AUC\"], \"type\": \"nominal\"}}}], \"data\": {\"name\": \"data-7200da256977adbd37e08ab8f29b6679\"}, \"height\": 300, \"title\": \"Gradient Boost Evaluation Metrics\", \"width\": 600, \"$schema\": \"https://vega.github.io/schema/vega-lite/v5.14.1.json\", \"datasets\": {\"data-7200da256977adbd37e08ab8f29b6679\": [{\"Metric\": \"Accuracy\", \"Score\": 0.7800208387600938}, {\"Metric\": \"Precision\", \"Score\": 0.6822864739115986}, {\"Metric\": \"Recall\", \"Score\": 0.26142875334267157}, {\"Metric\": \"F1 Score\", \"Score\": 0.37801509850856196}, {\"Metric\": \"ROC AUC\", \"Score\": 0.6098035756739169}]}}, {\"mode\": \"vega-lite\"});\n",
       "</script>"
      ],
      "text/plain": [
       "alt.LayerChart(...)"
      ]
     },
     "execution_count": 16,
     "metadata": {},
     "output_type": "execute_result"
    }
   ],
   "source": [
    "metrics_scores = {\n",
    "    \"Accuracy\": accuracy,\n",
    "    \"Precision\": precision,\n",
    "    \"Recall\": recall,\n",
    "    \"F1 Score\": f1,\n",
    "    \"ROC AUC\": roc_auc,\n",
    "}\n",
    "\n",
    "df_metrics = pd.DataFrame(list(metrics_scores.items()), columns=[\"Metric\", \"Score\"])\n",
    "\n",
    "base = alt.Chart(df_metrics).encode(\n",
    "    y=alt.Y(\"Metric:N\", axis=alt.Axis(title=\"Metric\"), sort=df_metrics[\"Metric\"].values),\n",
    "    x=alt.X(\"Score:Q\", axis=alt.Axis(title=\"Score\"), scale=alt.Scale(domain=[0, 1])),\n",
    ")\n",
    "\n",
    "bar = base.mark_bar().encode(\n",
    "    color=alt.Color(\"Metric:N\", legend=None), text=alt.Text(\"Score:Q\", format=\".2f\")\n",
    ")\n",
    "\n",
    "text = base.mark_text(\n",
    "    align=\"right\",\n",
    "    baseline=\"middle\",\n",
    "    color=\"white\",\n",
    "    dx=-10,\n",
    ").encode(text=alt.Text(\"Score:Q\", format=\".2f\"))\n",
    "\n",
    "chart = (\n",
    "    (bar + text)\n",
    "    .properties(title=f\"{MODEL_NAME} Evaluation Metrics\", width=600, height=300)\n",
    "    .configure_axis(labelFontSize=12, titleFontSize=14)\n",
    ")\n",
    "\n",
    "# Can't get this one to save programmatically :(\n",
    "# from altair_saver import save\n",
    "# chart.save(f\"./visualizations/{MODEL}_metrics.png\")\n",
    "# save(chart, f\"./visualizations/{MODEL}_metrics.png\")\n",
    "\n",
    "chart"
   ]
  }
 ],
 "metadata": {
  "kernelspec": {
   "display_name": "Python 3 (ipykernel)",
   "language": "python",
   "name": "python3"
  },
  "language_info": {
   "codemirror_mode": {
    "name": "ipython",
    "version": 3
   },
   "file_extension": ".py",
   "mimetype": "text/x-python",
   "name": "python",
   "nbconvert_exporter": "python",
   "pygments_lexer": "ipython3",
   "version": "3.10.11"
  }
 },
 "nbformat": 4,
 "nbformat_minor": 2
}
